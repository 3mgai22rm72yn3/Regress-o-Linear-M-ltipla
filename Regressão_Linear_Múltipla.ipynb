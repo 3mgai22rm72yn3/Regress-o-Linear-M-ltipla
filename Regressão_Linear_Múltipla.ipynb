{
  "nbformat": 4,
  "nbformat_minor": 0,
  "metadata": {
    "colab": {
      "provenance": [],
      "authorship_tag": "ABX9TyOH7lMf6851pveioeEW90Mb",
      "include_colab_link": true
    },
    "kernelspec": {
      "name": "python3",
      "display_name": "Python 3"
    },
    "language_info": {
      "name": "python"
    }
  },
  "cells": [
    {
      "cell_type": "markdown",
      "metadata": {
        "id": "view-in-github",
        "colab_type": "text"
      },
      "source": [
        "<a href=\"https://colab.research.google.com/github/3mgai22rm72yn3/Regress-o-Linear-M-ltipla/blob/main/Regress%C3%A3o_Linear_M%C3%BAltipla.ipynb\" target=\"_parent\"><img src=\"https://colab.research.google.com/assets/colab-badge.svg\" alt=\"Open In Colab\"/></a>"
      ]
    },
    {
      "cell_type": "markdown",
      "source": [
        
        "### Aplicação de Regressão Linear Múltipla"
      ],
      "metadata": {
        "id": "tmWeI49zD45o"
      }
    },
    {
      "cell_type": "code",
      "source": [
        "# Carregando os principais pacotes \n",
        "\n",
        "import pandas as pd\n",
        "import matplotlib.pyplot as plt\n",
        "import numpy as np\n",
        "import seaborn as sns\n",
        "import statsmodels.api as sm"
      ],
      "metadata": {
        "id": "jfSOkhURD61-"
      },
      "execution_count": null,
      "outputs": []
    },
    {
      "cell_type": "markdown",
      "source": [
        "Na Prática 1, você salvou o vetor Y e a matriz X (matriz de delineamento) para encontrar o estimador\n",
        "de mínimos quadrados βˆ. Agora, encontre a matriz H, que será usada para calcular as somas de\n",
        "quadrados.\n",
        "\n",
        "Resposta:\n",
        "\n",
        "Para encontrar a matriz H, primeiro precisamos calcular a matriz de projeção P, que é dada por:\n",
        "\n",
        "P = X(X^T X)^(-1) X^T\n",
        "\n",
        "A matriz H é então dada por:\n",
        "\n",
        "H = P^2 = X(X^T X)^(-1) X^T X(X^T X)^(-1) X^T = X(X^T X)^(-1) X^T\n",
        "\n",
        "Essa matriz é conhecida como a \"matriz chapéu\" ou \"matriz de projeção ortogonal\" e é usada para calcular as somas de quadrados na análise de regressão de mínimos quadrados."
      ],
      "metadata": {
        "id": "UcyWjSRcEMZj"
      }
    },
    {
      "cell_type": "code",
      "source": [
        "## Leitura dos Dados\n",
        "\n",
        "Braga = pd.read_excel('/content/Braga1998.xlsx',  sheet_name =\"Dta_LAN\")\n",
        "display(Braga)\n",
        "\n",
        "# Removendo as colunas qualitativas\n",
        "dados_sem_qualitativas = Braga.select_dtypes(include=['float64', 'int64'])\n",
        "\n",
        "\n",
        "# Tratamento dos dados para aplicar o medelo de regressão linear multivariada\n",
        "y = dados_sem_qualitativas['VO2']\n",
        "X = dados_sem_qualitativas.drop('VO2', axis=1)\n"
      ],
      "metadata": {
        "colab": {
          "base_uri": "https://localhost:8080/",
          "height": 424
        },
        "id": "jcg8u6XuEbyY",
        "outputId": "31656bf7-54ff-4237-d6a1-a0599792fa3f"
      },
      "execution_count": null,
      "outputs": [
        {
          "output_type": "display_data",
          "data": {
            "text/plain": [
              "     ID Etiologia Sexo  Idade  Altura  Peso  Superficie        IMC  Carga  \\\n",
              "0     1        CH    M     38   149.0  54.0        1.48  24.320000   41.0   \n",
              "1     2        CH    M     49   167.0  80.0        1.89  27.680000   56.0   \n",
              "2     3        ID    F     65   153.0  56.0        1.52  23.930000    8.0   \n",
              "3     4        ID    M     52   175.0  78.0        1.94  25.490000   53.0   \n",
              "4     5        IS    F     52   157.0  59.0        1.59  23.980000   22.0   \n",
              "..   ..       ...  ...    ...     ...   ...         ...        ...    ...   \n",
              "122  36         C    M     52   177.0  88.0        2.05  28.088991  111.0   \n",
              "123  37         C    F     44   148.0  50.3        1.42  22.963842   15.0   \n",
              "124  38         C    M     71   161.0  62.0        1.65  23.918830   45.0   \n",
              "125  39         C    M     60   172.0  66.0        1.78  22.309356   64.0   \n",
              "126  40         C    M     33   174.0  73.4        1.88  24.243625   70.0   \n",
              "\n",
              "      VO2  \n",
              "0    10.0  \n",
              "1    11.5  \n",
              "2     7.0  \n",
              "3     8.9  \n",
              "4     8.7  \n",
              "..    ...  \n",
              "122  18.4  \n",
              "123   9.6  \n",
              "124  10.6  \n",
              "125  14.1  \n",
              "126  12.4  \n",
              "\n",
              "[127 rows x 10 columns]"
            ],
            "text/html": [
              "\n",
              "  <div id=\"df-7cfc6ccd-fbe9-48ff-84c7-dda533b8415e\">\n",
              "    <div class=\"colab-df-container\">\n",
              "      <div>\n",
              "<style scoped>\n",
              "    .dataframe tbody tr th:only-of-type {\n",
              "        vertical-align: middle;\n",
              "    }\n",
              "\n",
              "    .dataframe tbody tr th {\n",
              "        vertical-align: top;\n",
              "    }\n",
              "\n",
              "    .dataframe thead th {\n",
              "        text-align: right;\n",
              "    }\n",
              "</style>\n",
              "<table border=\"1\" class=\"dataframe\">\n",
              "  <thead>\n",
              "    <tr style=\"text-align: right;\">\n",
              "      <th></th>\n",
              "      <th>ID</th>\n",
              "      <th>Etiologia</th>\n",
              "      <th>Sexo</th>\n",
              "      <th>Idade</th>\n",
              "      <th>Altura</th>\n",
              "      <th>Peso</th>\n",
              "      <th>Superficie</th>\n",
              "      <th>IMC</th>\n",
              "      <th>Carga</th>\n",
              "      <th>VO2</th>\n",
              "    </tr>\n",
              "  </thead>\n",
              "  <tbody>\n",
              "    <tr>\n",
              "      <th>0</th>\n",
              "      <td>1</td>\n",
              "      <td>CH</td>\n",
              "      <td>M</td>\n",
              "      <td>38</td>\n",
              "      <td>149.0</td>\n",
              "      <td>54.0</td>\n",
              "      <td>1.48</td>\n",
              "      <td>24.320000</td>\n",
              "      <td>41.0</td>\n",
              "      <td>10.0</td>\n",
              "    </tr>\n",
              "    <tr>\n",
              "      <th>1</th>\n",
              "      <td>2</td>\n",
              "      <td>CH</td>\n",
              "      <td>M</td>\n",
              "      <td>49</td>\n",
              "      <td>167.0</td>\n",
              "      <td>80.0</td>\n",
              "      <td>1.89</td>\n",
              "      <td>27.680000</td>\n",
              "      <td>56.0</td>\n",
              "      <td>11.5</td>\n",
              "    </tr>\n",
              "    <tr>\n",
              "      <th>2</th>\n",
              "      <td>3</td>\n",
              "      <td>ID</td>\n",
              "      <td>F</td>\n",
              "      <td>65</td>\n",
              "      <td>153.0</td>\n",
              "      <td>56.0</td>\n",
              "      <td>1.52</td>\n",
              "      <td>23.930000</td>\n",
              "      <td>8.0</td>\n",
              "      <td>7.0</td>\n",
              "    </tr>\n",
              "    <tr>\n",
              "      <th>3</th>\n",
              "      <td>4</td>\n",
              "      <td>ID</td>\n",
              "      <td>M</td>\n",
              "      <td>52</td>\n",
              "      <td>175.0</td>\n",
              "      <td>78.0</td>\n",
              "      <td>1.94</td>\n",
              "      <td>25.490000</td>\n",
              "      <td>53.0</td>\n",
              "      <td>8.9</td>\n",
              "    </tr>\n",
              "    <tr>\n",
              "      <th>4</th>\n",
              "      <td>5</td>\n",
              "      <td>IS</td>\n",
              "      <td>F</td>\n",
              "      <td>52</td>\n",
              "      <td>157.0</td>\n",
              "      <td>59.0</td>\n",
              "      <td>1.59</td>\n",
              "      <td>23.980000</td>\n",
              "      <td>22.0</td>\n",
              "      <td>8.7</td>\n",
              "    </tr>\n",
              "    <tr>\n",
              "      <th>...</th>\n",
              "      <td>...</td>\n",
              "      <td>...</td>\n",
              "      <td>...</td>\n",
              "      <td>...</td>\n",
              "      <td>...</td>\n",
              "      <td>...</td>\n",
              "      <td>...</td>\n",
              "      <td>...</td>\n",
              "      <td>...</td>\n",
              "      <td>...</td>\n",
              "    </tr>\n",
              "    <tr>\n",
              "      <th>122</th>\n",
              "      <td>36</td>\n",
              "      <td>C</td>\n",
              "      <td>M</td>\n",
              "      <td>52</td>\n",
              "      <td>177.0</td>\n",
              "      <td>88.0</td>\n",
              "      <td>2.05</td>\n",
              "      <td>28.088991</td>\n",
              "      <td>111.0</td>\n",
              "      <td>18.4</td>\n",
              "    </tr>\n",
              "    <tr>\n",
              "      <th>123</th>\n",
              "      <td>37</td>\n",
              "      <td>C</td>\n",
              "      <td>F</td>\n",
              "      <td>44</td>\n",
              "      <td>148.0</td>\n",
              "      <td>50.3</td>\n",
              "      <td>1.42</td>\n",
              "      <td>22.963842</td>\n",
              "      <td>15.0</td>\n",
              "      <td>9.6</td>\n",
              "    </tr>\n",
              "    <tr>\n",
              "      <th>124</th>\n",
              "      <td>38</td>\n",
              "      <td>C</td>\n",
              "      <td>M</td>\n",
              "      <td>71</td>\n",
              "      <td>161.0</td>\n",
              "      <td>62.0</td>\n",
              "      <td>1.65</td>\n",
              "      <td>23.918830</td>\n",
              "      <td>45.0</td>\n",
              "      <td>10.6</td>\n",
              "    </tr>\n",
              "    <tr>\n",
              "      <th>125</th>\n",
              "      <td>39</td>\n",
              "      <td>C</td>\n",
              "      <td>M</td>\n",
              "      <td>60</td>\n",
              "      <td>172.0</td>\n",
              "      <td>66.0</td>\n",
              "      <td>1.78</td>\n",
              "      <td>22.309356</td>\n",
              "      <td>64.0</td>\n",
              "      <td>14.1</td>\n",
              "    </tr>\n",
              "    <tr>\n",
              "      <th>126</th>\n",
              "      <td>40</td>\n",
              "      <td>C</td>\n",
              "      <td>M</td>\n",
              "      <td>33</td>\n",
              "      <td>174.0</td>\n",
              "      <td>73.4</td>\n",
              "      <td>1.88</td>\n",
              "      <td>24.243625</td>\n",
              "      <td>70.0</td>\n",
              "      <td>12.4</td>\n",
              "    </tr>\n",
              "  </tbody>\n",
              "</table>\n",
              "<p>127 rows × 10 columns</p>\n",
              "</div>\n",
              "      <button class=\"colab-df-convert\" onclick=\"convertToInteractive('df-7cfc6ccd-fbe9-48ff-84c7-dda533b8415e')\"\n",
              "              title=\"Convert this dataframe to an interactive table.\"\n",
              "              style=\"display:none;\">\n",
              "        \n",
              "  <svg xmlns=\"http://www.w3.org/2000/svg\" height=\"24px\"viewBox=\"0 0 24 24\"\n",
              "       width=\"24px\">\n",
              "    <path d=\"M0 0h24v24H0V0z\" fill=\"none\"/>\n",
              "    <path d=\"M18.56 5.44l.94 2.06.94-2.06 2.06-.94-2.06-.94-.94-2.06-.94 2.06-2.06.94zm-11 1L8.5 8.5l.94-2.06 2.06-.94-2.06-.94L8.5 2.5l-.94 2.06-2.06.94zm10 10l.94 2.06.94-2.06 2.06-.94-2.06-.94-.94-2.06-.94 2.06-2.06.94z\"/><path d=\"M17.41 7.96l-1.37-1.37c-.4-.4-.92-.59-1.43-.59-.52 0-1.04.2-1.43.59L10.3 9.45l-7.72 7.72c-.78.78-.78 2.05 0 2.83L4 21.41c.39.39.9.59 1.41.59.51 0 1.02-.2 1.41-.59l7.78-7.78 2.81-2.81c.8-.78.8-2.07 0-2.86zM5.41 20L4 18.59l7.72-7.72 1.47 1.35L5.41 20z\"/>\n",
              "  </svg>\n",
              "      </button>\n",
              "      \n",
              "  <style>\n",
              "    .colab-df-container {\n",
              "      display:flex;\n",
              "      flex-wrap:wrap;\n",
              "      gap: 12px;\n",
              "    }\n",
              "\n",
              "    .colab-df-convert {\n",
              "      background-color: #E8F0FE;\n",
              "      border: none;\n",
              "      border-radius: 50%;\n",
              "      cursor: pointer;\n",
              "      display: none;\n",
              "      fill: #1967D2;\n",
              "      height: 32px;\n",
              "      padding: 0 0 0 0;\n",
              "      width: 32px;\n",
              "    }\n",
              "\n",
              "    .colab-df-convert:hover {\n",
              "      background-color: #E2EBFA;\n",
              "      box-shadow: 0px 1px 2px rgba(60, 64, 67, 0.3), 0px 1px 3px 1px rgba(60, 64, 67, 0.15);\n",
              "      fill: #174EA6;\n",
              "    }\n",
              "\n",
              "    [theme=dark] .colab-df-convert {\n",
              "      background-color: #3B4455;\n",
              "      fill: #D2E3FC;\n",
              "    }\n",
              "\n",
              "    [theme=dark] .colab-df-convert:hover {\n",
              "      background-color: #434B5C;\n",
              "      box-shadow: 0px 1px 3px 1px rgba(0, 0, 0, 0.15);\n",
              "      filter: drop-shadow(0px 1px 2px rgba(0, 0, 0, 0.3));\n",
              "      fill: #FFFFFF;\n",
              "    }\n",
              "  </style>\n",
              "\n",
              "      <script>\n",
              "        const buttonEl =\n",
              "          document.querySelector('#df-7cfc6ccd-fbe9-48ff-84c7-dda533b8415e button.colab-df-convert');\n",
              "        buttonEl.style.display =\n",
              "          google.colab.kernel.accessAllowed ? 'block' : 'none';\n",
              "\n",
              "        async function convertToInteractive(key) {\n",
              "          const element = document.querySelector('#df-7cfc6ccd-fbe9-48ff-84c7-dda533b8415e');\n",
              "          const dataTable =\n",
              "            await google.colab.kernel.invokeFunction('convertToInteractive',\n",
              "                                                     [key], {});\n",
              "          if (!dataTable) return;\n",
              "\n",
              "          const docLinkHtml = 'Like what you see? Visit the ' +\n",
              "            '<a target=\"_blank\" href=https://colab.research.google.com/notebooks/data_table.ipynb>data table notebook</a>'\n",
              "            + ' to learn more about interactive tables.';\n",
              "          element.innerHTML = '';\n",
              "          dataTable['output_type'] = 'display_data';\n",
              "          await google.colab.output.renderOutput(dataTable, element);\n",
              "          const docLink = document.createElement('div');\n",
              "          docLink.innerHTML = docLinkHtml;\n",
              "          element.appendChild(docLink);\n",
              "        }\n",
              "      </script>\n",
              "    </div>\n",
              "  </div>\n",
              "  "
            ]
          },
          "metadata": {}
        }
      ]
    },
    {
      "cell_type": "code",
      "source": [
        "# Tratando os dados de X\n",
        "X = np.array(X)\n",
        "\n",
        "# Calcular a média da coluna\n",
        "col_mean = np.nanmean(X, axis=0)\n",
        "\n",
        "# Substituir os valores nan pela média da coluna\n",
        "mask = np.isnan(X)\n",
        "X[mask] = np.take(col_mean, np.where(mask)[1])\n",
        "\n",
        "#print(X)\n"
      ],
      "metadata": {
        "id": "rVuGLU-KF2Ul"
      },
      "execution_count": null,
      "outputs": []
    },
    {
      "cell_type": "code",
      "source": [
        "# Calculando a matriz de projeção P\n",
        "P = np.dot(X, np.dot(np.linalg.inv(np.dot(X.T, X)), X.T))\n",
        "\n",
        "# Calculando a matriz H\n",
        "H = np.dot(P, P)\n",
        "\n",
        "print(H)"
      ],
      "metadata": {
        "colab": {
          "base_uri": "https://localhost:8080/"
        },
        "id": "3nb058vDSg0f",
        "outputId": "1746f2c2-8423-48dd-fa17-aae62defe603"
      },
      "execution_count": null,
      "outputs": [
        {
          "output_type": "stream",
          "name": "stdout",
          "text": [
            "[[ 6.08840682e-02  1.93898381e-02  3.14930371e-02 ...  2.12989911e-03\n",
            "  -4.96980244e-03  9.96875537e-03]\n",
            " [ 1.93898381e-02  2.92220144e-02  1.46853944e-02 ... -7.60970052e-05\n",
            "   1.77256098e-03  8.91195975e-03]\n",
            " [ 3.14930371e-02  1.46853944e-02  5.35417248e-02 ...  2.27772700e-02\n",
            "   4.33799213e-03 -1.55777727e-02]\n",
            " ...\n",
            " [ 2.12989911e-03 -7.60970052e-05  2.27772700e-02 ...  3.79588444e-02\n",
            "   2.67837381e-02 -8.62382562e-03]\n",
            " [-4.96980244e-03  1.77256098e-03  4.33799213e-03 ...  2.67837381e-02\n",
            "   3.05445232e-02  7.84227091e-03]\n",
            " [ 9.96875537e-03  8.91195975e-03 -1.55777727e-02 ... -8.62382562e-03\n",
            "   7.84227091e-03  3.01923771e-02]]\n"
          ]
        }
      ]
    },
    {
      "cell_type": "markdown",
      "source": [
        "## 2) Ajuste um modelo de regressão linear múltipla, ou seja,\n",
        "Y = Xβ + ε.\n",
        "\n",
        "Usando a função summary(), preste atenção em todos os elementas da saída."
      ],
      "metadata": {
        "id": "klITrJbHTUAW"
      }
    },
    {
      "cell_type": "code",
      "source": [
        "# Tratando os dados de y\n",
        "y = pd.DataFrame(y)\n",
        "\n",
        "# Calcular a média de cada coluna\n",
        "col_mean = y.mean()\n",
        "\n",
        "# Substituir os valores nan pela média da coluna\n",
        "y = y.fillna(col_mean)\n",
        "\n",
        "print(y)\n"
      ],
      "metadata": {
        "colab": {
          "base_uri": "https://localhost:8080/"
        },
        "id": "j9K11PxYUXOE",
        "outputId": "b603f3cc-ae68-43b2-fae9-307ee13c2743"
      },
      "execution_count": null,
      "outputs": [
        {
          "output_type": "stream",
          "name": "stdout",
          "text": [
            "      VO2\n",
            "0    10.0\n",
            "1    11.5\n",
            "2     7.0\n",
            "3     8.9\n",
            "4     8.7\n",
            "..    ...\n",
            "122  18.4\n",
            "123   9.6\n",
            "124  10.6\n",
            "125  14.1\n",
            "126  12.4\n",
            "\n",
            "[127 rows x 1 columns]\n"
          ]
        }
      ]
    },
    {
      "cell_type": "code",
      "source": [
        "# Aplicando o modelo de Regressão linear\n",
        "\n",
        "from sklearn.feature_selection import RFECV\n",
        "from sklearn.linear_model import LinearRegression\n",
        "\n",
        "# Criar uma instância do modelo de regressão linear\n",
        "modelo = LinearRegression()\n",
        "\n",
        "# Criar um seletor de variáveis recursivo\n",
        "seletor = RFECV(estimator=modelo, cv=5, scoring='neg_mean_squared_error')\n",
        "\n",
        "# Ajustar o seletor aos dados de entrada e saída\n",
        "seletor.fit(X, y)\n"
      ],
      "metadata": {
        "colab": {
          "base_uri": "https://localhost:8080/",
          "height": 118
        },
        "id": "3AnjVdEnTyaV",
        "outputId": "086eef21-f038-4da1-97c5-ced76a619e9d"
      },
      "execution_count": null,
      "outputs": [
        {
          "output_type": "execute_result",
          "data": {
            "text/plain": [
              "RFECV(cv=5, estimator=LinearRegression(), scoring='neg_mean_squared_error')"
            ],
            "text/html": [
              "<style>#sk-container-id-2 {color: black;background-color: white;}#sk-container-id-2 pre{padding: 0;}#sk-container-id-2 div.sk-toggleable {background-color: white;}#sk-container-id-2 label.sk-toggleable__label {cursor: pointer;display: block;width: 100%;margin-bottom: 0;padding: 0.3em;box-sizing: border-box;text-align: center;}#sk-container-id-2 label.sk-toggleable__label-arrow:before {content: \"▸\";float: left;margin-right: 0.25em;color: #696969;}#sk-container-id-2 label.sk-toggleable__label-arrow:hover:before {color: black;}#sk-container-id-2 div.sk-estimator:hover label.sk-toggleable__label-arrow:before {color: black;}#sk-container-id-2 div.sk-toggleable__content {max-height: 0;max-width: 0;overflow: hidden;text-align: left;background-color: #f0f8ff;}#sk-container-id-2 div.sk-toggleable__content pre {margin: 0.2em;color: black;border-radius: 0.25em;background-color: #f0f8ff;}#sk-container-id-2 input.sk-toggleable__control:checked~div.sk-toggleable__content {max-height: 200px;max-width: 100%;overflow: auto;}#sk-container-id-2 input.sk-toggleable__control:checked~label.sk-toggleable__label-arrow:before {content: \"▾\";}#sk-container-id-2 div.sk-estimator input.sk-toggleable__control:checked~label.sk-toggleable__label {background-color: #d4ebff;}#sk-container-id-2 div.sk-label input.sk-toggleable__control:checked~label.sk-toggleable__label {background-color: #d4ebff;}#sk-container-id-2 input.sk-hidden--visually {border: 0;clip: rect(1px 1px 1px 1px);clip: rect(1px, 1px, 1px, 1px);height: 1px;margin: -1px;overflow: hidden;padding: 0;position: absolute;width: 1px;}#sk-container-id-2 div.sk-estimator {font-family: monospace;background-color: #f0f8ff;border: 1px dotted black;border-radius: 0.25em;box-sizing: border-box;margin-bottom: 0.5em;}#sk-container-id-2 div.sk-estimator:hover {background-color: #d4ebff;}#sk-container-id-2 div.sk-parallel-item::after {content: \"\";width: 100%;border-bottom: 1px solid gray;flex-grow: 1;}#sk-container-id-2 div.sk-label:hover label.sk-toggleable__label {background-color: #d4ebff;}#sk-container-id-2 div.sk-serial::before {content: \"\";position: absolute;border-left: 1px solid gray;box-sizing: border-box;top: 0;bottom: 0;left: 50%;z-index: 0;}#sk-container-id-2 div.sk-serial {display: flex;flex-direction: column;align-items: center;background-color: white;padding-right: 0.2em;padding-left: 0.2em;position: relative;}#sk-container-id-2 div.sk-item {position: relative;z-index: 1;}#sk-container-id-2 div.sk-parallel {display: flex;align-items: stretch;justify-content: center;background-color: white;position: relative;}#sk-container-id-2 div.sk-item::before, #sk-container-id-2 div.sk-parallel-item::before {content: \"\";position: absolute;border-left: 1px solid gray;box-sizing: border-box;top: 0;bottom: 0;left: 50%;z-index: -1;}#sk-container-id-2 div.sk-parallel-item {display: flex;flex-direction: column;z-index: 1;position: relative;background-color: white;}#sk-container-id-2 div.sk-parallel-item:first-child::after {align-self: flex-end;width: 50%;}#sk-container-id-2 div.sk-parallel-item:last-child::after {align-self: flex-start;width: 50%;}#sk-container-id-2 div.sk-parallel-item:only-child::after {width: 0;}#sk-container-id-2 div.sk-dashed-wrapped {border: 1px dashed gray;margin: 0 0.4em 0.5em 0.4em;box-sizing: border-box;padding-bottom: 0.4em;background-color: white;}#sk-container-id-2 div.sk-label label {font-family: monospace;font-weight: bold;display: inline-block;line-height: 1.2em;}#sk-container-id-2 div.sk-label-container {text-align: center;}#sk-container-id-2 div.sk-container {/* jupyter's `normalize.less` sets `[hidden] { display: none; }` but bootstrap.min.css set `[hidden] { display: none !important; }` so we also need the `!important` here to be able to override the default hidden behavior on the sphinx rendered scikit-learn.org. See: https://github.com/scikit-learn/scikit-learn/issues/21755 */display: inline-block !important;position: relative;}#sk-container-id-2 div.sk-text-repr-fallback {display: none;}</style><div id=\"sk-container-id-2\" class=\"sk-top-container\"><div class=\"sk-text-repr-fallback\"><pre>RFECV(cv=5, estimator=LinearRegression(), scoring=&#x27;neg_mean_squared_error&#x27;)</pre><b>In a Jupyter environment, please rerun this cell to show the HTML representation or trust the notebook. <br />On GitHub, the HTML representation is unable to render, please try loading this page with nbviewer.org.</b></div><div class=\"sk-container\" hidden><div class=\"sk-item sk-dashed-wrapped\"><div class=\"sk-label-container\"><div class=\"sk-label sk-toggleable\"><input class=\"sk-toggleable__control sk-hidden--visually\" id=\"sk-estimator-id-4\" type=\"checkbox\" ><label for=\"sk-estimator-id-4\" class=\"sk-toggleable__label sk-toggleable__label-arrow\">RFECV</label><div class=\"sk-toggleable__content\"><pre>RFECV(cv=5, estimator=LinearRegression(), scoring=&#x27;neg_mean_squared_error&#x27;)</pre></div></div></div><div class=\"sk-parallel\"><div class=\"sk-parallel-item\"><div class=\"sk-item\"><div class=\"sk-label-container\"><div class=\"sk-label sk-toggleable\"><input class=\"sk-toggleable__control sk-hidden--visually\" id=\"sk-estimator-id-5\" type=\"checkbox\" ><label for=\"sk-estimator-id-5\" class=\"sk-toggleable__label sk-toggleable__label-arrow\">estimator: LinearRegression</label><div class=\"sk-toggleable__content\"><pre>LinearRegression()</pre></div></div></div><div class=\"sk-serial\"><div class=\"sk-item\"><div class=\"sk-estimator sk-toggleable\"><input class=\"sk-toggleable__control sk-hidden--visually\" id=\"sk-estimator-id-6\" type=\"checkbox\" ><label for=\"sk-estimator-id-6\" class=\"sk-toggleable__label sk-toggleable__label-arrow\">LinearRegression</label><div class=\"sk-toggleable__content\"><pre>LinearRegression()</pre></div></div></div></div></div></div></div></div></div></div>"
            ]
          },
          "metadata": {},
          "execution_count": 26
        }
      ]
    },
    {
      "cell_type": "code",
      "source": [
        "# adicionar uma coluna de 1's para representar o intercepto \n",
        "X = sm.add_constant(X)\n",
        "\n",
        "# ajustar o modelo\n",
        "modelo = sm.OLS(y, X).fit()\n",
        "\n",
        "# imprimir um resumo do modelo\n",
        "print(modelo.summary())\n"
      ],
      "metadata": {
        "colab": {
          "base_uri": "https://localhost:8080/"
        },
        "id": "wedVYddwTVat",
        "outputId": "b83b0cc6-ccc1-4538-b3e4-11c764686c6d"
      },
      "execution_count": null,
      "outputs": [
        {
          "output_type": "stream",
          "name": "stdout",
          "text": [
            "                            OLS Regression Results                            \n",
            "==============================================================================\n",
            "Dep. Variable:                    VO2   R-squared:                       0.714\n",
            "Model:                            OLS   Adj. R-squared:                  0.698\n",
            "Method:                 Least Squares   F-statistic:                     42.54\n",
            "Date:                Sat, 22 Apr 2023   Prob (F-statistic):           1.58e-29\n",
            "Time:                        22:23:24   Log-Likelihood:                -231.47\n",
            "No. Observations:                 127   AIC:                             478.9\n",
            "Df Residuals:                     119   BIC:                             501.7\n",
            "Df Model:                           7                                         \n",
            "Covariance Type:            nonrobust                                         \n",
            "==============================================================================\n",
            "                 coef    std err          t      P>|t|      [0.025      0.975]\n",
            "------------------------------------------------------------------------------\n",
            "const         11.5875      6.298      1.840      0.068      -0.882      24.057\n",
            "x1             0.0003      0.006      0.051      0.959      -0.011       0.012\n",
            "x2             0.0370      0.012      3.153      0.002       0.014       0.060\n",
            "x3             0.0109      0.058      0.186      0.853      -0.105       0.127\n",
            "x4            -0.0418      0.069     -0.603      0.548      -0.179       0.096\n",
            "x5            -3.6832      5.451     -0.676      0.501     -14.478       7.111\n",
            "x6            -0.0024      0.103     -0.023      0.981      -0.205       0.201\n",
            "x7             0.1068      0.006     16.472      0.000       0.094       0.120\n",
            "==============================================================================\n",
            "Omnibus:                       13.323   Durbin-Watson:                   1.700\n",
            "Prob(Omnibus):                  0.001   Jarque-Bera (JB):               18.326\n",
            "Skew:                           0.566   Prob(JB):                     0.000105\n",
            "Kurtosis:                       4.476   Cond. No.                     9.81e+03\n",
            "==============================================================================\n",
            "\n",
            "Notes:\n",
            "[1] Standard Errors assume that the covariance matrix of the errors is correctly specified.\n",
            "[2] The condition number is large, 9.81e+03. This might indicate that there are\n",
            "strong multicollinearity or other numerical problems.\n"
          ]
        }
      ]
    },
    {
      "cell_type": "markdown",
      "source": [
        "## 3) Reporte a estimativa do coeficiente de Idade e interprete-o.\n",
        "\n",
        "Resposta:\n",
        "\n",
        "A interpretação do coeficiente de Idade é que, para cada aumento unitário na Idade, a Altura esperada aumenta em uma quantidade igual ao valor do coeficiente, mantendo-se o valor de Peso constante. Por exemplo, se o coeficiente de Idade é 0.05, isso significa que, em média, espera-se que a altura aumente em 0.05 unidades para cada ano a mais de idade, mantendo-se o valor de Peso constante."
      ],
      "metadata": {
        "id": "_mu8y0XfeCg5"
      }
    },
    {
      "cell_type": "code",
      "source": [
        "# Encontrar a estimativa de beta que minimiza a soma dos quadrados dos resíduos\n",
        "beta = np.linalg.inv(X.T.dot(X)).dot(X.T).dot(y)\n",
        "\n",
        "print(beta)"
      ],
      "metadata": {
        "colab": {
          "base_uri": "https://localhost:8080/"
        },
        "id": "nBymEzKrVMez",
        "outputId": "f6da96a7-91d1-451b-8e4b-19fe539a7e27"
      },
      "execution_count": null,
      "outputs": [
        {
          "output_type": "stream",
          "name": "stdout",
          "text": [
            "[[ 1.15874870e+01]\n",
            " [ 2.92085971e-04]\n",
            " [ 3.70134445e-02]\n",
            " [ 1.08526524e-02]\n",
            " [-4.18338411e-02]\n",
            " [-3.68322670e+00]\n",
            " [-2.38810900e-03]\n",
            " [ 1.06769785e-01]]\n"
          ]
        }
      ]
    },
    {
      "cell_type": "markdown",
      "source": [
        "A interpretação do coeficiente de Idade (coluna 4 do dataFrame Braga) é que, para cada aumento unitário na Idade, a Altura esperada aumenta em uma quantidade igual ao valor do coeficiente, mantendo-se o valor de Peso constante. Ou seja, o coeficiente de Idade é 1.08526524e-02, isso significa que, em média, espera-se que a altura aumente em 1.08526524e-02 unidades para cada ano a mais de idade, mantendo-se o valor de Peso constante."
      ],
      "metadata": {
        "id": "OHdmqeTDfiz0"
      }
    },
    {
      "cell_type": "markdown",
      "source": [
        "## 4) Para esses dados, calcule as SQT, SQReg e SQE usando as formas matriciais e verifique que:\n",
        "\n",
        "SQT = SQReg + SQE"
      ],
      "metadata": {
        "id": "07TBzrvqgdSB"
      }
    },
    {
      "cell_type": "code",
      "source": [
        "# Calcular a predição e os valores de y\n",
        "y_hat = X @ beta\n",
        "y_mean = np.mean(y)\n",
        "\n",
        "# Calcular SQReg, SQE e SQT\n",
        "SQE = (y - y_hat).transpose() @ (y - y_hat)\n",
        "SQT = (y - y_mean).transpose() @ (y - y_mean)\n",
        "\n",
        "# Como SQT = SQReg + SQE, logo,\n",
        "SQReg = SQT - SQE\n",
        "\n",
        "print(SQReg)"
      ],
      "metadata": {
        "colab": {
          "base_uri": "https://localhost:8080/"
        },
        "id": "YAQN8IqvgfFl",
        "outputId": "f14524b9-202f-4306-b955-5215a76a10da"
      },
      "execution_count": null,
      "outputs": [
        {
          "output_type": "stream",
          "name": "stdout",
          "text": [
            "           VO2\n",
            "VO2  712.47336\n"
          ]
        },
        {
          "output_type": "stream",
          "name": "stderr",
          "text": [
            "/usr/local/lib/python3.9/dist-packages/numpy/core/fromnumeric.py:3472: FutureWarning: In a future version, DataFrame.mean(axis=None) will return a scalar mean over the entire DataFrame. To retain the old behavior, use 'frame.mean(axis=0)' or just 'frame.mean()'\n",
            "  return mean(axis=axis, dtype=dtype, out=out, **kwargs)\n"
          ]
        }
      ]
    },
    {
      "cell_type": "code",
      "source": [
        "soma = 0\n",
        "for i in range(len(y_hat)):\n",
        "  SQReg = (y_hat[i] - y_mean)**2\n",
        "  soma = soma + SQReg\n",
        "\n",
        "print(soma)\n",
        "\n",
        "#Note que os valores são iguais!"
      ],
      "metadata": {
        "colab": {
          "base_uri": "https://localhost:8080/"
        },
        "id": "CY51dQxTrn8R",
        "outputId": "70882ef7-66b4-4746-aa0c-8d2a847fb55e"
      },
      "execution_count": null,
      "outputs": [
        {
          "output_type": "stream",
          "name": "stdout",
          "text": [
            "VO2    712.47336\n",
            "dtype: float64\n"
          ]
        }
      ]
    },
    {
      "cell_type": "markdown",
      "source": [
        "## 5) Obtenha a tabela ANOVA para o modelo ajustado. Preencha a tabela ANOVA a seguir. Dica: Use a função anova() do R.\n",
        "\n",
        "Resposta:\n",
        "\n",
        "Como estamos trabalhando com o python, vamos usar as bibliotecas abaixo:"
      ],
      "metadata": {
        "id": "_AtcPsmaSaHP"
      }
    },
    {
      "cell_type": "code",
      "source": [
        "import statsmodels.api as sm\n",
        "from statsmodels.formula.api import ols\n",
        "\n",
        "\n",
        "\n",
        "# criar um modelo de regressão linear\n",
        "modelo = ols('y ~ X', data=Braga).fit()\n",
        "\n",
        "# realizar a ANOVA\n",
        "tabela_anova = sm.stats.anova_lm(modelo, typ=2)\n",
        "\n",
        "# exibir a tabela ANOVA\n",
        "print(tabela_anova)\n"
      ],
      "metadata": {
        "colab": {
          "base_uri": "https://localhost:8080/"
        },
        "id": "JnGcfMrtlhN0",
        "outputId": "199815b2-adc9-4287-f1f2-ddc6f443149f"
      },
      "execution_count": null,
      "outputs": [
        {
          "output_type": "stream",
          "name": "stdout",
          "text": [
            "               sum_sq     df           F        PR(>F)\n",
            "X         14660.93416    8.0  765.919616  1.655642e-98\n",
            "Residual    284.73144  119.0         NaN           NaN\n"
          ]
        }
      ]
    },
    {
      "cell_type": "markdown",
      "source": [
        "## 6) A partir da tabela ANOVA acima, mostre a construção do teste F para verificar se os coeficientes β são todos não nulos. Apresente as hipóteses sendo testadas, a estatística do teste, sua distribuição sob H0,\n",
        "o cálculo do p-valor e conclusão. Identifique em qual parte do summary() estão estas informações.\n",
        "\n",
        "Resposta:\n",
        "\n",
        "\n"
      ],
      "metadata": {
        "id": "ZuoZlmMWU-7s"
      }
    },
    {
      "cell_type": "markdown",
      "source": [
        "## 7) Obtenha uma estimativa da variância σ^2. Identifique no summary() onde está esta informação.\n",
        "Resposta:\n",
        "O seguinte teorama vai ser usado para resolver a questão: \n",
        "Teorema: Se $E(Y) = X\\beta$, $\\operatorname{posto}(X) = r \\leq p$, e $Var(Y) = \\sigma I$, então\n",
        "\n",
        "$$S^2 = \\frac{(Y - X\\hat{\\beta})'(Y - X\\hat{\\beta})}{n - r} = \\frac{RSS}{n - r}$$\n",
        "é um estimador não viesado de $\\sigma^2$ . RSS vem do inglês Residual Sum of Squares.\n",
        "Quando tem posto completo,\n",
        "$$S^2 = \\frac{(Y - X\\hat{\\beta})'(Y - X\\hat{\\beta})}{n - p} = \\frac{RSS}{n - p}$$"
      ],
      "metadata": {
        "id": "1cr1Rr9o5DKn"
      }
    },
    {
      "cell_type": "code",
      "source": [
        "n = len(Braga)\n",
        "r = np.linalg.matrix_rank(X) # posto de X\n",
        "RSS = np.sum((y - np.dot(X, beta))**2)\n",
        "S2 = RSS / (n - r)\n",
        "print(S2)"
      ],
      "metadata": {
        "colab": {
          "base_uri": "https://localhost:8080/"
        },
        "id": "VooCEmr95_u0",
        "outputId": "35cb43c5-cee1-43d0-f12b-d8475db01d85"
      },
      "execution_count": null,
      "outputs": [
        {
          "output_type": "stream",
          "name": "stdout",
          "text": [
            "VO2    2.392701\n",
            "dtype: float64\n"
          ]
        }
      ]
    },
    {
      "cell_type": "markdown",
      "source": [
        "## 8) Reveja os slides da Parte 6 e construa intervalos de confiança de 95% para os coeficientes βj ’s. Calcule o erro padrão dos βj ’s e compare com o resultado apresentado pelo summary().\n",
        "\n",
        "Resposta:\n"
      ],
      "metadata": {
        "id": "D7V-u1yW87JT"
      }
    },
    {
      "cell_type": "code",
      "source": [
        "\n",
        "# Adicionar intercepto na matriz X\n",
        "X = sm.add_constant(X)\n",
        "\n",
        "# Ajustar modelo de regressão linear\n",
        "model = sm.OLS(y, X).fit()\n",
        "\n",
        "# Calcular erro padrão dos coeficientes\n",
        "se = model.bse\n",
        "\n",
        "# Calcular intervalos de confiança de 95%\n",
        "ci = model.conf_int(alpha=0.05)\n",
        "\n",
        "# Imprimir resultados\n",
        "print('Erro padrão dos coeficientes:')\n",
        "print(se)\n",
        "\n",
        "print('Intervalos de confiança de 95%:')\n",
        "print(ci)\n"
      ],
      "metadata": {
        "colab": {
          "base_uri": "https://localhost:8080/"
        },
        "id": "TMjjbJ849C7Y",
        "outputId": "b983f771-28f1-4479-c1fe-15c6daf6b198"
      },
      "execution_count": null,
      "outputs": [
        {
          "output_type": "stream",
          "name": "stdout",
          "text": [
            "Erro padrão dos coeficientes:\n",
            "const    6.297508\n",
            "x1       0.005686\n",
            "x2       0.011738\n",
            "x3       0.058439\n",
            "x4       0.069428\n",
            "x5       5.451460\n",
            "x6       0.102554\n",
            "x7       0.006482\n",
            "dtype: float64\n",
            "Intervalos de confiança de 95%:\n",
            "               0          1\n",
            "const  -0.882208  24.057182\n",
            "x1     -0.010967   0.011551\n",
            "x2      0.013770   0.060257\n",
            "x3     -0.104862   0.126567\n",
            "x4     -0.179309   0.095641\n",
            "x5    -14.477663   7.111210\n",
            "x6     -0.205456   0.200680\n",
            "x7      0.093935   0.119604\n"
          ]
        }
      ]
    },
    {
      "cell_type": "markdown",
      "source": [
        "Este código usa a biblioteca Statsmodels para ajustar um modelo de regressão linear e calcular intervalos de confiança para os coeficientes βj's. Primeiro, adicionamos uma coluna de uns à matriz X usando a função sm.add_constant(), para incluir o intercepto no modelo. Em seguida, ajustamos o modelo de regressão linear usando a função sm.OLS(), e calculamos o erro padrão dos coeficientes usando o atributo model.bse. Finalmente, calculamos os intervalos de confiança de 95% para os coeficientes usando a função model.conf_int(), com um nível de confiança de 95%, e imprimimos os resultados.\n",
        "\n",
        "É importante notar que os resultados podem não ser exatamente iguais aos do summary() por causa das diferenças em como os intervalos de confiança são calculados, mas eles devem ser próximos o suficiente. A função model.conf_int() usa a distribuição t de Student para calcular os intervalos de confiança, enquanto o método summary() usa a distribuição normal."
      ],
      "metadata": {
        "id": "-T7MhcHWBnmB"
      }
    },
    {
      "cell_type": "markdown",
      "source": [
        "## 9) Construa um teste de hipótese para verificar se o coeficiente do IMC (βIMC ) é nulo. Apresente as hipóteses sendo testadas, a estatística do teste, sua distribuição sob H0, o cálculo do p-valor e conclusão. Compare o seu teste de hipótese com o apresentado no summary()."
      ],
      "metadata": {
        "id": "DG1CINsI9E7K"
      }
    },
    {
      "cell_type": "code",
      "source": [
        "# Zerando o coeficente Beta da coluna IMC\n",
        "beta[6] = beta[6] - beta[6]\n",
        "\n",
        "# print(beta)\n",
        "# ajustar o modelo\n",
        "modelo = sm.OLS(y, X).fit()\n",
        "\n",
        "# imprimir um resumo do modelo\n",
        "print(modelo.summary())"
      ],
      "metadata": {
        "colab": {
          "base_uri": "https://localhost:8080/"
        },
        "id": "UPPdGIKZET4U",
        "outputId": "0dea9d36-302a-40bb-f81e-cf285ccbbf99"
      },
      "execution_count": null,
      "outputs": [
        {
          "output_type": "stream",
          "name": "stdout",
          "text": [
            "                            OLS Regression Results                            \n",
            "==============================================================================\n",
            "Dep. Variable:                    VO2   R-squared:                       0.714\n",
            "Model:                            OLS   Adj. R-squared:                  0.700\n",
            "Method:                 Least Squares   F-statistic:                     50.04\n",
            "Date:                Sat, 22 Apr 2023   Prob (F-statistic):           2.14e-30\n",
            "Time:                        22:30:11   Log-Likelihood:                -231.47\n",
            "No. Observations:                 127   AIC:                             476.9\n",
            "Df Residuals:                     120   BIC:                             496.9\n",
            "Df Model:                           6                                         \n",
            "Covariance Type:            nonrobust                                         \n",
            "==============================================================================\n",
            "                 coef    std err          t      P>|t|      [0.025      0.975]\n",
            "------------------------------------------------------------------------------\n",
            "const         11.4700      3.751      3.058      0.003       4.044      18.896\n",
            "x1             0.0003      0.006      0.051      0.959      -0.011       0.011\n",
            "x2             0.0370      0.012      3.173      0.002       0.014       0.060\n",
            "x3             0.0115      0.051      0.228      0.820      -0.089       0.112\n",
            "x4            -0.0427      0.059     -0.729      0.468      -0.159       0.073\n",
            "x5            -3.6799      5.427     -0.678      0.499     -14.425       7.065\n",
            "x6             0.1068      0.006     16.551      0.000       0.094       0.120\n",
            "==============================================================================\n",
            "Omnibus:                       13.331   Durbin-Watson:                   1.699\n",
            "Prob(Omnibus):                  0.001   Jarque-Bera (JB):               18.344\n",
            "Skew:                           0.567   Prob(JB):                     0.000104\n",
            "Kurtosis:                       4.477   Cond. No.                     8.52e+03\n",
            "==============================================================================\n",
            "\n",
            "Notes:\n",
            "[1] Standard Errors assume that the covariance matrix of the errors is correctly specified.\n",
            "[2] The condition number is large, 8.52e+03. This might indicate that there are\n",
            "strong multicollinearity or other numerical problems.\n"
          ]
        }
      ]
    },
    {
      "cell_type": "markdown",
      "source": [
        "## 10) Ajuste um novo modelo, excluindo a variável IMC. O que você observa?"
      ],
      "metadata": {
        "id": "k_pKqo4W9WQJ"
      }
    },
    {
      "cell_type": "code",
      "source": [
        "# Remover coluna IMC (índice 6)\n",
        "X = np.delete(X, 6, axis=1)\n",
        "\n",
        "# ajustar o modelo\n",
        "modelo = sm.OLS(y, X).fit()\n",
        "\n",
        "# imprimir um resumo do modelo\n",
        "print(modelo.summary())\n"
      ],
      "metadata": {
        "colab": {
          "base_uri": "https://localhost:8080/"
        },
        "id": "Zu_5RPfi9Y4P",
        "outputId": "35fb3a92-4777-443b-c60d-ab5891bd07b1"
      },
      "execution_count": null,
      "outputs": [
        {
          "output_type": "stream",
          "name": "stdout",
          "text": [
            "                            OLS Regression Results                            \n",
            "==============================================================================\n",
            "Dep. Variable:                    VO2   R-squared:                       0.714\n",
            "Model:                            OLS   Adj. R-squared:                  0.700\n",
            "Method:                 Least Squares   F-statistic:                     50.04\n",
            "Date:                Sat, 22 Apr 2023   Prob (F-statistic):           2.14e-30\n",
            "Time:                        22:24:09   Log-Likelihood:                -231.47\n",
            "No. Observations:                 127   AIC:                             476.9\n",
            "Df Residuals:                     120   BIC:                             496.9\n",
            "Df Model:                           6                                         \n",
            "Covariance Type:            nonrobust                                         \n",
            "==============================================================================\n",
            "                 coef    std err          t      P>|t|      [0.025      0.975]\n",
            "------------------------------------------------------------------------------\n",
            "const         11.4700      3.751      3.058      0.003       4.044      18.896\n",
            "x1             0.0003      0.006      0.051      0.959      -0.011       0.011\n",
            "x2             0.0370      0.012      3.173      0.002       0.014       0.060\n",
            "x3             0.0115      0.051      0.228      0.820      -0.089       0.112\n",
            "x4            -0.0427      0.059     -0.729      0.468      -0.159       0.073\n",
            "x5            -3.6799      5.427     -0.678      0.499     -14.425       7.065\n",
            "x6             0.1068      0.006     16.551      0.000       0.094       0.120\n",
            "==============================================================================\n",
            "Omnibus:                       13.331   Durbin-Watson:                   1.699\n",
            "Prob(Omnibus):                  0.001   Jarque-Bera (JB):               18.344\n",
            "Skew:                           0.567   Prob(JB):                     0.000104\n",
            "Kurtosis:                       4.477   Cond. No.                     8.52e+03\n",
            "==============================================================================\n",
            "\n",
            "Notes:\n",
            "[1] Standard Errors assume that the covariance matrix of the errors is correctly specified.\n",
            "[2] The condition number is large, 8.52e+03. This might indicate that there are\n",
            "strong multicollinearity or other numerical problems.\n"
          ]
        }
      ]
    },
    {
      "cell_type": "markdown",
      "source": [
        "Resposta:\n",
        "\n",
        "Note que não há diferença de zerar o coeficiente da coluna IMC ou excluir a coluna IMC"
      ],
      "metadata": {
        "id": "kAq9-7HRHDPz"
      }
    }
  ]
}

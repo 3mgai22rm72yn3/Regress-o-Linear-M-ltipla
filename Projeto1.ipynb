{
  "cells": [
    {
      "cell_type": "markdown",
      "metadata": {
        "id": "view-in-github",
        "colab_type": "text"
      },
      "source": [
        "<a href=\"https://colab.research.google.com/github/3mgai22rm72yn3/Regress-o-Linear-M-ltipla/blob/main/Projeto1.ipynb\" target=\"_parent\"><img src=\"https://colab.research.google.com/assets/colab-badge.svg\" alt=\"Open In Colab\"/></a>"
      ]
    },
    {
      "cell_type": "code",
      "execution_count": null,
      "metadata": {
        "id": "PAaXg1USBhcq"
      },
      "outputs": [],
      "source": [
        "import numpy as np\n",
        "import pandas as pd\n",
        "import matplotlib.pyplot as plt\n"
      ]
    },
    {
      "cell_type": "code",
      "source": [
        "# Configurando o google colab par abuscar os dados no driver\n",
        "\n"
      ],
      "metadata": {
        "id": "n745fHx0Fe5S"
      },
      "execution_count": null,
      "outputs": []
    },
    {
      "cell_type": "code",
      "execution_count": null,
      "metadata": {
        "id": "DwpNNI7hBhcv",
        "outputId": "dd6c36cb-f223-4d2c-a338-62a1ce0615d5"
      },
      "outputs": [
        {
          "data": {
            "text/html": [
              "<div>\n",
              "<style scoped>\n",
              "    .dataframe tbody tr th:only-of-type {\n",
              "        vertical-align: middle;\n",
              "    }\n",
              "\n",
              "    .dataframe tbody tr th {\n",
              "        vertical-align: top;\n",
              "    }\n",
              "\n",
              "    .dataframe thead th {\n",
              "        text-align: right;\n",
              "    }\n",
              "</style>\n",
              "<table border=\"1\" class=\"dataframe\">\n",
              "  <thead>\n",
              "    <tr style=\"text-align: right;\">\n",
              "      <th></th>\n",
              "      <th>day</th>\n",
              "      <th>cases</th>\n",
              "    </tr>\n",
              "  </thead>\n",
              "  <tbody>\n",
              "    <tr>\n",
              "      <th>0</th>\n",
              "      <td>1</td>\n",
              "      <td>1</td>\n",
              "    </tr>\n",
              "    <tr>\n",
              "      <th>1</th>\n",
              "      <td>2</td>\n",
              "      <td>1</td>\n",
              "    </tr>\n",
              "    <tr>\n",
              "      <th>2</th>\n",
              "      <td>3</td>\n",
              "      <td>1</td>\n",
              "    </tr>\n",
              "    <tr>\n",
              "      <th>3</th>\n",
              "      <td>4</td>\n",
              "      <td>2</td>\n",
              "    </tr>\n",
              "    <tr>\n",
              "      <th>4</th>\n",
              "      <td>5</td>\n",
              "      <td>2</td>\n",
              "    </tr>\n",
              "    <tr>\n",
              "      <th>...</th>\n",
              "      <td>...</td>\n",
              "      <td>...</td>\n",
              "    </tr>\n",
              "    <tr>\n",
              "      <th>129</th>\n",
              "      <td>130</td>\n",
              "      <td>1546935</td>\n",
              "    </tr>\n",
              "    <tr>\n",
              "      <th>130</th>\n",
              "      <td>131</td>\n",
              "      <td>1580502</td>\n",
              "    </tr>\n",
              "    <tr>\n",
              "      <th>131</th>\n",
              "      <td>132</td>\n",
              "      <td>1605694</td>\n",
              "    </tr>\n",
              "    <tr>\n",
              "      <th>132</th>\n",
              "      <td>133</td>\n",
              "      <td>1630061</td>\n",
              "    </tr>\n",
              "    <tr>\n",
              "      <th>133</th>\n",
              "      <td>134</td>\n",
              "      <td>1675264</td>\n",
              "    </tr>\n",
              "  </tbody>\n",
              "</table>\n",
              "<p>134 rows × 2 columns</p>\n",
              "</div>"
            ],
            "text/plain": [
              "     day    cases\n",
              "0      1        1\n",
              "1      2        1\n",
              "2      3        1\n",
              "3      4        2\n",
              "4      5        2\n",
              "..   ...      ...\n",
              "129  130  1546935\n",
              "130  131  1580502\n",
              "131  132  1605694\n",
              "132  133  1630061\n",
              "133  134  1675264\n",
              "\n",
              "[134 rows x 2 columns]"
            ]
          },
          "metadata": {},
          "output_type": "display_data"
        }
      ],
      "source": [
        "data = pd.read_csv('casesBrazil.csv')\n",
        "display(data)"
      ]
    },
    {
      "cell_type": "code",
      "execution_count": null,
      "metadata": {
        "id": "3Zsgc-gBBhcx",
        "outputId": "fe8321f4-a4fe-4242-cde3-b31d6618ee85"
      },
      "outputs": [
        {
          "data": {
            "text/plain": [
              "Text(0.5, 1.0, 'Casos em função dos dias')"
            ]
          },
          "execution_count": 8,
          "metadata": {},
          "output_type": "execute_result"
        },
        {
          "data": {
            "image/png": "[encoded data removed]",
            "text/plain": [
              "<Figure size 432x288 with 1 Axes>"
            ]
          },
          "metadata": {
            "needs_background": "light"
          },
          "output_type": "display_data"
        }
      ],
      "source": [
        "# gráfico de dispersão\n",
        "\n",
        "plt.scatter(data['day'], data['cases'])\n",
        "plt.xticks(np.arange(0,140,10))\n",
        "plt.yticks(np.arange(0,1680000,120000))\n",
        "plt.xlabel('Dias')\n",
        "plt.ylabel('Casos')\n",
        "plt.title('Casos em função dos dias')\n"
      ]
    },
    {
      "cell_type": "code",
      "execution_count": null,
      "metadata": {
        "id": "4Ucw-9E8Bhcz"
      },
      "outputs": [],
      "source": [
        "# Definindo a função de custo 'J' vou aplicar minha função de hipotese h (função linear) que depende de theta sobre o\n",
        "# X, pegar a diferença entre h e o Y, elevando quadrado e somar ou fazer essa operação matricialmente sem somar.\n",
        "# vou precisar saber o nº de exemplos 'm', pq na hora que eu calculo o erro médio, dividindo 2 vezs pelo o nº de exemplos.\n",
        "# m pode ser o nº de linha da minha matriz X, ou o nº de componetes/elementos do vetor Y.\n",
        "# h é um vetor da função de hipotese\n",
        "# y é um vetor que contém todos os ys\n",
        "# J função de custo\n",
        "\n",
        "# Lembre-se que h-y é a diferaça entre a função de hipotese e o y para cada i, para cada exemplo de treinamento\n",
        "# é um vetor que mede essa diferença para todo exemplo de treinamento\n",
        "# divido por m, pq é o valor médio e divide por 2 para cancelar com a derivada\n",
        "\n",
        "def computeCost(x, y, theta):\n",
        "    m = len(y)\n",
        "    h = x.dot(theta)\n",
        "    J = 1/(2*m)*(np.sum((h-y)**2))\n",
        "    return J"
      ]
    },
    {
      "cell_type": "code",
      "execution_count": null,
      "metadata": {
        "id": "oclP0fxrBhc0"
      },
      "outputs": [],
      "source": [
        "# Preciso de definir um função para calcular o Gradiente Descendente\n",
        "\n",
        "# alpha é a taxa de aprendizado\n",
        "# definir o vetor que vai armazenar o valor de custo para cada iteração, usa isso depois para plotar o gráfico J diminuindo\n",
        "# a cada passo. Podo usar isso tbm para averiguar se a taxa de aprendizado está muito grande. Pois se J não estiver\n",
        "# diminuindo meu alpha está muito grande, isso na regressão linear, outros algoritmos contem outros problemas\n",
        "# J_history é o vetor que vai armazenar a função de custo.\n",
        "# antes esse theta começa com o theta que eu forneço no cabeçario, depois a gente vai atualizando com o for.\n",
        "\n",
        "def grad_desc(x,y,theta, alpha, nbr_iter):\n",
        "    J_history = []\n",
        "    m = len(y)\n",
        "    for i in range(nbr_iter):\n",
        "        h = x.dot(theta)\n",
        "        theta = theta - (alpha/m)*(x*T.dot(h-y))\n",
        "        J_history.append(computeCost(x,y,theta))\n",
        "\n",
        "    return theta, J_history\n",
        ""
      ]
    },
    {
      "cell_type": "code",
      "execution_count": null,
      "metadata": {
        "id": "EX8eR8b5Bhc1"
      },
      "outputs": [],
      "source": [
        "# Agora vamos definar as entradas para o algoritmo\n",
        "\n",
        "# values é pq queremos que retorne um vetor, para que o Numpy possa manipular\n",
        "\n",
        "x, y = data['day'].values, data['cases'].values\n",
        "m = len(y) # equivalente a função len()\n",
        "x = np.append(np.ones([m, 1]),x.reshape(m,1), axis=1) # isso me gera um vetor de 2x1 com volores inicias 1\n",
        "# o numpy ele tem um frescura que pra ele vetor e matriz coluna sõa coisas diferentes, por isso que usamos o shape e reshape\n",
        "# vamos fazer a mesma jogada com o y\n",
        "\n",
        "y = y.reshape(m,1)\n",
        "theta = np.zeros([2,1]) # inicialmente vamos definir a matriz theta nula\n",
        "#agora vamos calcular o custo inicial"
      ]
    },
    {
      "cell_type": "code",
      "execution_count": null,
      "metadata": {
        "id": "26T9mUFFBhc2",
        "outputId": "34acb3b4-7228-46b9-a64a-6e1e19c7695a"
      },
      "outputs": [
        {
          "name": "stdout",
          "output_type": "stream",
          "text": [
            "181844094775.77237\n"
          ]
        }
      ],
      "source": [
        "Cust = computeCost(x, y, theta)\n",
        "\n",
        "print(Cust)\n",
        "\n"
      ]
    },
    {
      "cell_type": "markdown",
      "metadata": {
        "id": "fCQZ5btvBhc6"
      },
      "source": [
        "### Projeto 1"
      ]
    },
    {
      "cell_type": "code",
      "execution_count": null,
      "metadata": {
        "id": "VF2NcN2CBhc9"
      },
      "outputs": [],
      "source": []
    }
  ],
  "metadata": {
    "kernelspec": {
      "display_name": "Python 3",
      "language": "python",
      "name": "python3"
    },
    "language_info": {
      "codemirror_mode": {
        "name": "ipython",
        "version": 3
      },
      "file_extension": ".py",
      "mimetype": "text/x-python",
      "name": "python",
      "nbconvert_exporter": "python",
      "pygments_lexer": "ipython3",
      "version": "3.8.8"
    },
    "colab": {
      "provenance": [],
      "include_colab_link": true
    }
  },
  "nbformat": 4,
  "nbformat_minor": 0
}